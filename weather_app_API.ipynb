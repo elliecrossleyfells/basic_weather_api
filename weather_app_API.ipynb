{
 "cells": [
  {
   "cell_type": "markdown",
   "id": "0aa5b264-666b-4cb4-abe4-feec44178bf8",
   "metadata": {},
   "source": [
    "<b>ASSIGNMENT 2 - Python</b>\n",
    "<br>\n",
    "I am using the OpenWeather API which provides up to date global weather. This console app takes the user's inputted city, and returns the current weather after transforming it into a readable format. \n",
    "To connect to the API, please make an account at https://openweathermap.org/api and generate an API key and paste the key into the \"api_key\" variable below."
   ]
  },
  {
   "cell_type": "code",
   "execution_count": 1,
   "id": "c6006419-ebd4-4882-b386-9c6ccb093233",
   "metadata": {
    "tags": []
   },
   "outputs": [],
   "source": [
    "#import required libraries\n",
    "import datetime\n",
    "import requests"
   ]
  },
  {
   "cell_type": "code",
   "execution_count": 2,
   "id": "c318ac35-5ecb-4902-a44b-b16f9b113780",
   "metadata": {
    "tags": []
   },
   "outputs": [
    {
     "name": "stdin",
     "output_type": "stream",
     "text": [
      "Enter a city: Leeds\n"
     ]
    },
    {
     "name": "stdout",
     "output_type": "stream",
     "text": [
      "{'coord': {'lon': -1.5477, 'lat': 53.7964}, 'weather': [{'id': 500, 'main': 'Rain', 'description': 'light rain', 'icon': '10d'}], 'base': 'stations', 'main': {'temp': 283.22, 'feels_like': 281.98, 'temp_min': 282.79, 'temp_max': 284.08, 'pressure': 1017, 'humidity': 65}, 'visibility': 10000, 'wind': {'speed': 5.66, 'deg': 170}, 'rain': {'1h': 0.37}, 'clouds': {'all': 40}, 'dt': 1710605640, 'sys': {'type': 2, 'id': 2041378, 'country': 'GB', 'sunrise': 1710569863, 'sunset': 1710612710}, 'timezone': 0, 'id': 3333164, 'name': 'Leeds', 'cod': 200}\n"
     ]
    }
   ],
   "source": [
    "#specify variables including base url of the API\n",
    "#the base API url can be found in the API documentation on the OpenWeather website.\n",
    "api_url = \"http://api.openweathermap.org/data/2.5/weather?\"\n",
    "api_key = \"PLEASE INSERT YOUR OWN API KEY HERE TO RUN THE CODE.\"\n",
    "user_input = input(\"Enter a city:\")\n",
    "\n",
    "#The data retrieved is not in familar units (temperature is given in Kelvin. We can change this by defining a function)\n",
    "def kelvin_to_celsius(kelvin):\n",
    "    celsius = kelvin - 273.15\n",
    "    return celsius\n",
    "\n",
    "#final url\n",
    "url = api_url + \"appID=\" + api_key + \"&q=\" + user_input\n",
    "\n",
    "#make a call to the API and store it within the response variable as a json file.\n",
    "response = requests.get(url).json() \n",
    "print(response)\n",
    "\n",
    "#Below is the retrieved data about the weather at the user's specified location.\n",
    "#in the form of nested dictionaries (a json) from the API. The values and keys from this dictionary are used in the next cell to tranform the data. "
   ]
  },
  {
   "cell_type": "code",
   "execution_count": 3,
   "id": "8581007f-9801-4344-b46c-d5ea0c1fe529",
   "metadata": {
    "tags": []
   },
   "outputs": [
    {
     "name": "stdout",
     "output_type": "stream",
     "text": [
      "Temperature in Leeds : 10.07°C\n",
      "Temperature in Leeds feels like: 8.83°C\n",
      "The general weather in Leeds : light rain\n",
      "Sunrise in Leeds is at: 2024-03-16 06:17:43 AM\n",
      "Sunset in Leeds is at: 2024-03-16 18:11:50 PM\n"
     ]
    }
   ],
   "source": [
    "#pick out the weather data attributes from the dictorionary you want to display to the user.\n",
    "#call the defined function to convert units from kelvin to celsius where required. \n",
    "temp_kelvin = response[\"main\"][\"temp\"]\n",
    "temp_celsius = kelvin_to_celsius(temp_kelvin)\n",
    "\n",
    "feels_like_kelvin = response[\"main\"][\"feels_like\"]\n",
    "feels_like_celsius = kelvin_to_celsius(feels_like_kelvin)\n",
    "\n",
    "weather_description = response[\"weather\"][0][\"description\"]\n",
    "\n",
    "#use the datetime library to get timestamps.\n",
    "sunrise = datetime.datetime.utcfromtimestamp(response[\"sys\"][\"sunrise\"] + response[\"timezone\"])\n",
    "sunset = datetime.datetime.utcfromtimestamp(response[\"sys\"][\"sunset\"] + response[\"timezone\"])\n",
    "\n",
    "#the .2f formats float values (temperature). \n",
    "print(f\"Temperature in {user_input} : {temp_celsius:.2f}°C\")\n",
    "print(f\"Temperature in {user_input} feels like: {feels_like_celsius:.2f}°C\")\n",
    "print(f\"The general weather in {user_input} : {weather_description}\")\n",
    "print(f\"Sunrise in {user_input} is at: {sunrise} AM\")\n",
    "print(f\"Sunset in {user_input} is at: {sunset} PM\")"
   ]
  },
  {
   "cell_type": "code",
   "execution_count": 4,
   "id": "3913d51f-b24b-4c59-89e8-88560d83d3d2",
   "metadata": {
    "tags": []
   },
   "outputs": [
    {
     "name": "stdout",
     "output_type": "stream",
     "text": [
      "Your local weather results for Leeds have been saved to file THE_WEATHER.txt!\n"
     ]
    }
   ],
   "source": [
    "#now write the results to a txt file\n",
    "with open('INSERT YOUR OWN .TXT FILE PATH HERE', 'w') as file:\n",
    "    print(f\"Temperature in {user_input} : {temp_celsius:.2f}°C\", file=file)\n",
    "    print(f\"Temperature in {user_input} feels like: {feels_like_celsius:.2f}°C\", file=file)\n",
    "    print(f\"The general weather in {user_input} : {weather_description}\", file=file)\n",
    "    print(f\"Sunrise in {user_input} is at: {sunrise} AM\", file=file)\n",
    "    print(f\"Sunset in {user_input} is at: {sunset} PM\", file=file)\n",
    "\n",
    "#a message to confirm the successful writing of the file\n",
    "print(\"Your local weather results for\", user_input, \"have been saved to file THE_WEATHER.txt!\")"
   ]
  }
 ],
 "metadata": {
  "kernelspec": {
   "display_name": "Python 3 (ipykernel)",
   "language": "python",
   "name": "python3"
  },
  "language_info": {
   "codemirror_mode": {
    "name": "ipython",
    "version": 3
   },
   "file_extension": ".py",
   "mimetype": "text/x-python",
   "name": "python",
   "nbconvert_exporter": "python",
   "pygments_lexer": "ipython3",
   "version": "3.11.5"
  }
 },
 "nbformat": 4,
 "nbformat_minor": 5
}
